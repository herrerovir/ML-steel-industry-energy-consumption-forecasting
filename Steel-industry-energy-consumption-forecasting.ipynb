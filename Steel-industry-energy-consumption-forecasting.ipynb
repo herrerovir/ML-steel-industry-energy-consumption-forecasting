{
 "cells": [
  {
   "cell_type": "markdown",
   "metadata": {},
   "source": [
    "# Steel industry energy consumption forecasting\n",
    "\n",
    "_by Virginia Herrero_"
   ]
  }
 ],
 "metadata": {
  "language_info": {
   "name": "python"
  }
 },
 "nbformat": 4,
 "nbformat_minor": 2
}
