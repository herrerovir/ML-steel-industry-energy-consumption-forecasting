{
 "cells": [
  {
   "cell_type": "markdown",
   "metadata": {},
   "source": [
    "# Steel industry energy consumption forecasting\n",
    "\n",
    "_by Virginia Herrero_"
   ]
  },
  {
   "cell_type": "markdown",
   "metadata": {},
   "source": [
    "## Introduction\n",
    "\n",
    "The steel industry is crucial to modern manufacturing but is also a major consumer of energy, leading to high operational costs and environmental impacts. As demand for steel rises, optimizing energy consumption becomes increasingly urgent.\n",
    "\n",
    "This machine learning project focuses on analyzing energy consumption patterns within the steel industry, focusing on data from DAEWOO Steel Co. Ltd in Gwangyang, South Korea, which produces various coils, steel plates, and iron plates. By leveraging historical data and operational parameters, the project aims to identify key factors influencing energy use and develop predictive models to enhance energy efficiency. Ultimately, this initiative seeks to provide actionable insights that promote sustainability and reduce the carbon footprint of steel production."
   ]
  },
  {
   "cell_type": "markdown",
   "metadata": {},
   "source": [
    "## Project Overview\n",
    "\n",
    "* Data loading\n",
    "* Data cleaning\n",
    "* Data exploration\n",
    "* Pre-model data transformation\n",
    "* Linear regression model"
   ]
  },
  {
   "cell_type": "markdown",
   "metadata": {},
   "source": [
    "## Data loading\n",
    "Load the CSV file **steel-industry-data** as a pandas DataFrame."
   ]
  },
  {
   "cell_type": "code",
   "execution_count": null,
   "metadata": {},
   "outputs": [],
   "source": [
    "# Import all required libraries\n",
    "import numpy as np\n",
    "import pandas as pd\n",
    "import matplotlib.pyplot as plt\n",
    "import seaborn as sns\n",
    "%matplotlib inline"
   ]
  },
  {
   "cell_type": "code",
   "execution_count": null,
   "metadata": {},
   "outputs": [],
   "source": [
    "# Load the dataset\n",
    "df = pd.read_csv(\"steel-industry-data.csv\")\n",
    "df.head()"
   ]
  },
  {
   "cell_type": "markdown",
   "metadata": {},
   "source": [
    "## Data cleaning\n",
    "Clean and pre-process the dataset prior to conducting further analysis."
   ]
  },
  {
   "cell_type": "code",
   "execution_count": null,
   "metadata": {},
   "outputs": [],
   "source": [
    "df.info()"
   ]
  },
  {
   "cell_type": "markdown",
   "metadata": {},
   "source": [
    "* **Remove unnecessary columns**\n",
    "\n",
    "The date and NSM columns are not necessary for this analysis, as it is not a time series analysis. Therefore, they are removed from the dataset."
   ]
  },
  {
   "cell_type": "code",
   "execution_count": null,
   "metadata": {},
   "outputs": [],
   "source": [
    "df = df.drop(\"date\", axis = 1)"
   ]
  },
  {
   "cell_type": "markdown",
   "metadata": {},
   "source": [
    "* **Rename columns**\n",
    "\n",
    "Some column names have been renamed to enhance readability and improve comprehension of the dataset."
   ]
  },
  {
   "cell_type": "code",
   "execution_count": null,
   "metadata": {},
   "outputs": [],
   "source": [
    "df.columns"
   ]
  },
  {
   "cell_type": "code",
   "execution_count": null,
   "metadata": {},
   "outputs": [],
   "source": [
    "df = df.rename(columns = {\"Usage_kWh\" : \"energy_usage_kWh\",\n",
    "                          \"Lagging_Current_Reactive.Power_kVarh\" : \"lagging_current_kVarh\",\n",
    "                          \"Leading_Current_Reactive_Power_kVarh\" : \"leading_current_kVarh\",\n",
    "                          \"CO2(tCO2)\" : \"CO2_ppm\",\n",
    "                          \"Lagging_Current_Power_Factor\" : \"lagging_current_power_factor\",\n",
    "                          \"Leading_Current_Power_Factor\" : \"leading_current_power_factor\",\n",
    "                          \"WeekStatus\" : \"week_status\",\n",
    "                          \"Day_of_week\" : \"day_of_the_week\",\n",
    "                          \"Load_Type\" : \"load_type\"})"
   ]
  },
  {
   "cell_type": "code",
   "execution_count": null,
   "metadata": {},
   "outputs": [],
   "source": [
    "df.head()"
   ]
  },
  {
   "cell_type": "markdown",
   "metadata": {},
   "source": [
    "* **Data types**\n",
    "\n",
    "Check that all columns have the appropriate data types."
   ]
  },
  {
   "cell_type": "code",
   "execution_count": null,
   "metadata": {},
   "outputs": [],
   "source": [
    "df.dtypes"
   ]
  },
  {
   "cell_type": "markdown",
   "metadata": {},
   "source": [
    "* **Null values**\n",
    "\n",
    "Identify and remove any missing values, zero values, or NaN values from the dataset as needed."
   ]
  },
  {
   "cell_type": "code",
   "execution_count": null,
   "metadata": {},
   "outputs": [],
   "source": [
    "# Check the total of null values in each column\n",
    "df.isna().sum()"
   ]
  },
  {
   "cell_type": "markdown",
   "metadata": {},
   "source": [
    "There are no missing values in the dataset."
   ]
  },
  {
   "cell_type": "markdown",
   "metadata": {},
   "source": [
    "* **Duplicated values**\n",
    "\n",
    "Verify if there are any duplicate entries in the dataset."
   ]
  },
  {
   "cell_type": "code",
   "execution_count": null,
   "metadata": {},
   "outputs": [],
   "source": [
    "df.duplicated().sum()"
   ]
  },
  {
   "cell_type": "code",
   "execution_count": null,
   "metadata": {},
   "outputs": [],
   "source": [
    "# Show all duplicated values\n",
    "df[df.duplicated()]"
   ]
  },
  {
   "cell_type": "code",
   "execution_count": null,
   "metadata": {},
   "outputs": [],
   "source": [
    "# Drop all duplicated values\n",
    "df = df.drop_duplicates()"
   ]
  },
  {
   "cell_type": "markdown",
   "metadata": {},
   "source": [
    "Eighty-one duplicate entries were detected and removed from the dataset."
   ]
  },
  {
   "cell_type": "markdown",
   "metadata": {},
   "source": [
    "* **Outliers**\n",
    "\n",
    "Check for outliers in the dataset by first examining its statistical summary. This will provide an initial overview of the data."
   ]
  },
  {
   "cell_type": "code",
   "execution_count": null,
   "metadata": {},
   "outputs": [],
   "source": [
    "df.describe()"
   ]
  },
  {
   "cell_type": "markdown",
   "metadata": {},
   "source": [
    "At first glance, it can be inferred that there are some outliers in the columns **energy_usage_kWh**, **lagging_current_kVarh**, and **leading_current_kVarh**. This conclusion is based on the observation that the maximum values exceed both the mean and the median, which can indicate the presence of outliers.\n",
    "\n",
    "A more thorough evaluation of these outliers is necessary to identify them and assess the appropriate approach for handling them.\n",
    "\n",
    "Outliers in these three columns or features will be identified using the Interquartile Range (IQR) method. Analyzing the distribution of the data will reveal values that fall outside the typical range, enabling the selection of an appropriate approach for handling these outliers."
   ]
  },
  {
   "cell_type": "markdown",
   "metadata": {},
   "source": [
    "**1. Outliers in the feature \"energy_usage_kWh\":**"
   ]
  },
  {
   "cell_type": "code",
   "execution_count": null,
   "metadata": {},
   "outputs": [],
   "source": [
    "# Plot the energy usage distribution using a histogram and boxplot\n",
    "energy_usage_distribution = plt.figure()\n",
    "fig, ax = plt.subplots(1, 2, figsize = (11, 3))\n",
    "sns.histplot(df[\"energy_usage_kWh\"], ax = ax[0], bins = 15, binrange = (0, 150), color = \"#41b6c4\")\n",
    "sns.boxplot(x = df[\"energy_usage_kWh\"], ax = ax[1], color = \"#41b6c4\")\n",
    "ax[0].set_xlabel(\"Energy Usage (kWh)\")\n",
    "ax[1].set_xlabel(\"Energy Usage (kWh)\")\n",
    "plt.suptitle(\"Energy Usage Distribution\", size = 12)"
   ]
  },
  {
   "cell_type": "markdown",
   "metadata": {},
   "source": [
    "A significant number of outliers have been identified through the boxplot of the feature \"energy_usage_kWh.\" These outliers will be now quantified statistically."
   ]
  },
  {
   "cell_type": "code",
   "execution_count": null,
   "metadata": {},
   "outputs": [],
   "source": [
    "# Create a function to find outliers using the IQR method\n",
    "\n",
    "def find_outliers_iqr(dataframe, column):\n",
    "    \"\"\"\n",
    "    Finds outliers in the specified column of a DataFrame using the IQR method\n",
    "\n",
    "    Parameters\n",
    "    ----------\n",
    "    dataframe : Pandas DataFrame\n",
    "        The DataFrame containing the data\n",
    "    \n",
    "    column : str\n",
    "        The name of the column (as a string) in which to find the outliers\n",
    "\n",
    "    Returns\n",
    "    -------\n",
    "    Pandas DataFrame\n",
    "        A DataFrame containing the outliers identified in the specified column\n",
    "   \"\"\"\n",
    "    # Calculate Q1 (25th percentile) and Q3 (75th percentile)\n",
    "    Q1 = dataframe[column].quantile(0.25)\n",
    "    Q3 = dataframe[column].quantile(0.75)\n",
    "    \n",
    "    # Calculate IQR\n",
    "    IQR = Q3 - Q1\n",
    "    \n",
    "    # Determine the bounds for outliers\n",
    "    lower_bound = Q1 - 1.5 * IQR\n",
    "    upper_bound = Q3 + 1.5 * IQR\n",
    "    \n",
    "    # Identify outliers\n",
    "    outliers = dataframe[(dataframe[column] < lower_bound) | (dataframe[column] > upper_bound)]\n",
    "    print(f\"The number of outliers in the column {column} is {outliers.shape[0]}\")\n",
    "    \n",
    "    return outliers"
   ]
  },
  {
   "cell_type": "code",
   "execution_count": null,
   "metadata": {},
   "outputs": [],
   "source": [
    "outliers_energy_usage = find_outliers_iqr(df, \"energy_usage_kWh\")\n",
    "outliers_energy_usage"
   ]
  },
  {
   "cell_type": "markdown",
   "metadata": {},
   "source": [
    "The number of outliers is relatively low, so while they could simply be removed, I’ve decided to cap them instead. This approach allows me to retain the overall structure of the dataset while minimizing the impact of extreme values. "
   ]
  },
  {
   "cell_type": "code",
   "execution_count": null,
   "metadata": {},
   "outputs": [],
   "source": [
    "def cap_outliers(dataframe, column):\n",
    "    \"\"\"\n",
    "    Cap outliers in a specified column of the DataFrame using the IQR method\n",
    "\n",
    "    Parameters\n",
    "    ----------\n",
    "    dataframe : Pandas DataFrame\n",
    "        The DataFrame containing the data\n",
    "    \n",
    "    column : str\n",
    "        The name of the column to cap outliers\n",
    "\n",
    "\n",
    "    Returns\n",
    "    -------\n",
    "    Pandas DataFrame\n",
    "        A DataFrame with outliers capped\n",
    "    \"\"\"\n",
    "    if column not in dataframe.columns:\n",
    "        raise ValueError(f\"Column '{column}' not found in DataFrame.\")\n",
    "    \n",
    "    # Calculate Q1 and Q3\n",
    "    Q1 = dataframe[column].quantile(0.25)\n",
    "    Q3 = dataframe[column].quantile(0.75)\n",
    "\n",
    "    # Calculate IQR\n",
    "\n",
    "    IQR = Q3 - Q1\n",
    "\n",
    "    # Define bounds for outliers\n",
    "    lower_bound = Q1 - 1.5 * IQR\n",
    "    upper_bound = Q3 + 1.5 * IQR\n",
    "\n",
    "    # Cap the outliers\n",
    "    dataframe[column] = dataframe[column].clip(lower = lower_bound, upper = upper_bound)\n",
    "\n",
    "    return dataframe"
   ]
  },
  {
   "cell_type": "code",
   "execution_count": null,
   "metadata": {},
   "outputs": [],
   "source": [
    "df = cap_outliers(df, \"energy_usage_kWh\")"
   ]
  },
  {
   "cell_type": "markdown",
   "metadata": {},
   "source": [
    "**2. Outliers in the feature \"lagging_current_kVarh\":**"
   ]
  },
  {
   "cell_type": "code",
   "execution_count": null,
   "metadata": {},
   "outputs": [],
   "source": [
    "# Plot the lagging current distribution using a histogram and boxplot\n",
    "lagging_current_distribution = plt.figure()\n",
    "fig, ax = plt.subplots(1, 2, figsize = (11, 3))\n",
    "sns.histplot(df[\"lagging_current_kVarh\"], ax = ax[0], bins = 8, binrange = (0, 80), color = \"#41b6c4\")\n",
    "sns.boxplot(x = df[\"lagging_current_kVarh\"], ax = ax[1], color = \"#41b6c4\")\n",
    "ax[0].set_xlabel(\"Lagging current (kVarh)\")\n",
    "ax[1].set_xlabel(\"Lagging current (kVarh)\")\n",
    "plt.suptitle(\"Lagging Current Distribution\", size = 12)"
   ]
  },
  {
   "cell_type": "code",
   "execution_count": null,
   "metadata": {},
   "outputs": [],
   "source": [
    "outliers_lagging_current = find_outliers_iqr(df, \"lagging_current_kVarh\")\n",
    "outliers_lagging_current"
   ]
  },
  {
   "cell_type": "markdown",
   "metadata": {},
   "source": [
    "The feature \"lagging_current_kVarh\" has more outliers than the energy usage feature. These outliers will be addressed in a consistent manner, with capping applied at the upper limit determined by the IQR method."
   ]
  },
  {
   "cell_type": "code",
   "execution_count": null,
   "metadata": {},
   "outputs": [],
   "source": [
    "df = cap_outliers(df, \"lagging_current_kVarh\")"
   ]
  },
  {
   "cell_type": "markdown",
   "metadata": {},
   "source": [
    "**3. Outliers in the feature \"leading_current_kVarh\":**"
   ]
  },
  {
   "cell_type": "code",
   "execution_count": null,
   "metadata": {},
   "outputs": [],
   "source": [
    "# Plot the lagging current distribution using a histogram and boxplot\n",
    "leading_current_distribution = plt.figure()\n",
    "fig, ax = plt.subplots(1, 2, figsize = (11, 3))\n",
    "sns.histplot(df[\"leading_current_kVarh\"], ax = ax[0], bins = 6, binrange = (0, 30), color = \"#41b6c4\")\n",
    "sns.boxplot(x = df[\"leading_current_kVarh\"], ax = ax[1], color = \"#41b6c4\")\n",
    "ax[0].set_xlabel(\"Leading current (kVarh)\")\n",
    "ax[1].set_xlabel(\"Leading current (kVarh)\")\n",
    "plt.suptitle(\"Leading Current Distribution\", size = 12)"
   ]
  },
  {
   "cell_type": "code",
   "execution_count": null,
   "metadata": {},
   "outputs": [],
   "source": [
    "outliers_leading_current = find_outliers_iqr(df, \"leading_current_kVarh\")\n",
    "outliers_leading_current"
   ]
  },
  {
   "cell_type": "markdown",
   "metadata": {},
   "source": [
    "The number of outliers in the feature \"leading_current_kVahr\" is significantly greater than in the other features. Nevertheless, the approach to handling these outliers will remain consistent."
   ]
  },
  {
   "cell_type": "code",
   "execution_count": null,
   "metadata": {},
   "outputs": [],
   "source": [
    "df = cap_outliers(df, \"leading_current_kVarh\")"
   ]
  },
  {
   "cell_type": "markdown",
   "metadata": {},
   "source": [
    "**The clean dataset:**"
   ]
  },
  {
   "cell_type": "code",
   "execution_count": null,
   "metadata": {},
   "outputs": [],
   "source": [
    "energy_consumption = df.copy()\n",
    "energy_consumption.head()"
   ]
  },
  {
   "cell_type": "markdown",
   "metadata": {},
   "source": [
    "## Data exploration\n",
    "\n",
    "In this section, an in-depth data exploratory analysis is carried out."
   ]
  },
  {
   "cell_type": "markdown",
   "metadata": {},
   "source": [
    "* **Univariate exploration**\n",
    "\n",
    "Let's have a quick glance to the whole dataset feature by feature to have a general overview of the dataset."
   ]
  },
  {
   "cell_type": "code",
   "execution_count": null,
   "metadata": {},
   "outputs": [],
   "source": [
    "# Plot all features distribution\n",
    "energy_consumption.hist(figsize = (20, 8), color = \"#41b6c4\")\n",
    "plt.suptitle(\"Feature Distribution\")\n",
    "plt.show()"
   ]
  },
  {
   "cell_type": "markdown",
   "metadata": {},
   "source": [
    "* **Correlation matrix**\n",
    "\n",
    "A correlation matrix is used to find the correlation between features."
   ]
  },
  {
   "cell_type": "code",
   "execution_count": null,
   "metadata": {},
   "outputs": [],
   "source": [
    "correlations = energy_consumption.corr(numeric_only = True)\n",
    "correlations"
   ]
  },
  {
   "cell_type": "code",
   "execution_count": null,
   "metadata": {},
   "outputs": [],
   "source": [
    "correlation_heatmap_graph = plt.figure(figsize = (7, 3))\n",
    "sns.heatmap(correlations, linewidths = 0.5, annot = True, cmap = \"YlGnBu\")\n",
    "plt.title(\"Correlation Heatmap\", size = 12)"
   ]
  },
  {
   "cell_type": "markdown",
   "metadata": {},
   "source": [
    "Here’s a brief explanation of the insights obtained from the correlation matrix:\n",
    "\n",
    "### Strong Positive Correlations:\n",
    "* **Energy Usage and Lagging Current**:\n",
    "   - As energy usage increases, lagging current also tends to increase. This suggests that higher energy consumption is associated with more inductive loads, which typically exhibit lagging current.\n",
    "\n",
    "* **Energy Usage and CO2**:\n",
    "   - Higher energy usage correlates with increased CO2 emissions. This relationship likely reflects the reliance on fossil fuels for energy, which emit CO2 when consumed.\n",
    "\n",
    "* **Lagging Current and CO2**:\n",
    "   - A strong correlation indicates that as lagging current increases, CO2 emissions also increase. This may suggest that systems with higher inductive loads (and thus higher lagging currents) are contributing more to CO2 emissions.\n",
    "\n",
    "### Moderate Positive Correlation:\n",
    "* **Energy Usage and Lagging and Leading Current Power**:\n",
    "   - This indicates that as energy usage increases, both lagging and leading current power also increase. It suggests that both types of power contribute to overall energy consumption, reflecting different load characteristics.\n",
    "\n",
    "### Strong Negative Correlation:\n",
    "* **Leading Current and Leading Current Power Factor**:\n",
    "   - A strong negative correlation means that as leading current increases, the leading current power factor decreases. This implies that higher leading current is associated with less efficient power usage, potentially due to reactive power becoming more prominent.\n",
    "\n",
    "### Moderate Negative Correlations:\n",
    "* **Energy Usage and Leading Current**:\n",
    "   - As energy usage increases, leading current tends to decrease. This might indicate that systems with higher energy consumption rely less on capacitive loads.\n",
    "\n",
    "* **Lagging Current and Leading Current**:\n",
    "   - This negative correlation suggests that as lagging current increases, leading current decreases, reflecting the competing nature of inductive and capacitive loads in a system.\n",
    "\n",
    "* **Leading Current and CO2**:\n",
    "   - Higher leading current is associated with lower CO2 emissions. This might indicate that systems using more capacitive loads (which can produce leading currents) are emitting less CO2, possibly due to greater efficiency or reliance on cleaner energy sources."
   ]
  },
  {
   "cell_type": "markdown",
   "metadata": {},
   "source": [
    "After identifying the correlations between the features of the dataset, the next step is to determine the type of correlation: linear or non-linear. To achieve this, the findings from the correlation heatmap will be visualized using scatter plots."
   ]
  },
  {
   "cell_type": "code",
   "execution_count": null,
   "metadata": {},
   "outputs": [],
   "source": [
    "# Plot scatterplots\n",
    "correlation_scatterplot_graph = plt.figure()\n",
    "\n",
    "fig, ax = plt.subplots(5, 2, figsize=(12, 30))\n",
    "\n",
    "ax = ax.flatten()\n",
    "\n",
    "sns.scatterplot(data = energy_consumption, x = \"energy_usage_kWh\", y = \"lagging_current_kVarh\", ax = ax[0], color = \"#41b6c4\")\n",
    "ax[0].set_title(\"Energy Usage vs Lagging Current\")\n",
    "ax[0].set_xlabel(\"Energy Usage (kWh)\")\n",
    "ax[0].set_ylabel(\"Lagging Current (kVarh)\")\n",
    "\n",
    "sns.scatterplot(data = energy_consumption, x = \"energy_usage_kWh\", y = \"leading_current_kVarh\", ax = ax[1], color = \"#0c2c84\")\n",
    "ax[1].set_title(\"Energy Usage vs Leading Current\")\n",
    "ax[1].set_xlabel(\"Energy Usage (kWh)\")\n",
    "ax[1].set_ylabel(\"Leading Current (kVarh)\")\n",
    "\n",
    "sns.scatterplot(data = energy_consumption, x = \"energy_usage_kWh\", y = \"CO2_ppm\", ax = ax[2], color = \"#41b6c4\")\n",
    "ax[2].set_title(\"Energy Usage vs CO$_2$ emissions\")\n",
    "ax[2].set_xlabel(\"Energy Usage (kWh)\")\n",
    "ax[2].set_ylabel(\"CO$_2$ (ppm)\")\n",
    "\n",
    "sns.scatterplot(data = energy_consumption, x = \"lagging_current_kVarh\", y = \"CO2_ppm\", ax = ax[3], color = \"#0c2c84\") \n",
    "ax[3].set_title(\"Lagging Current vs CO$_2$ emissions\")\n",
    "ax[3].set_xlabel(\"Lagging Current (kVarh)\")\n",
    "ax[3].set_ylabel(\"CO$_2$ (ppm)\")\n",
    "\n",
    "sns.scatterplot(data = energy_consumption, x = \"leading_current_kVarh\", y = \"CO2_ppm\", ax = ax[4], color = \"#41b6c4\") \n",
    "ax[4].set_title(\"Leading Current vs CO$_2$ emissions\")\n",
    "ax[4].set_xlabel(\"Leading Current (kVarh)\")\n",
    "ax[4].set_ylabel(\"CO$_2$ (ppm)\")\n",
    "\n",
    "sns.scatterplot(data = energy_consumption, x = \"lagging_current_kVarh\", y = \"leading_current_kVarh\", ax = ax[5], color = \"#0c2c84\") \n",
    "ax[5].set_title(\"Lagging Current vs Leading Current\")\n",
    "ax[5].set_xlabel(\"Lagging Current (kVarh)\")\n",
    "ax[5].set_ylabel(\"Leading Current (kVarh)\")\n",
    "\n",
    "sns.scatterplot(data = energy_consumption, x = \"energy_usage_kWh\", y = \"lagging_current_power_factor\", ax = ax[6], color = \"#41b6c4\") \n",
    "ax[6].set_title(\"Energy Usage vs Lagging Current Power Factor\")\n",
    "ax[6].set_xlabel(\"Energy Usage (kWh)\")\n",
    "ax[6].set_ylabel(\"Lagging Current Power Factor\")\n",
    "\n",
    "sns.scatterplot(data = energy_consumption, x = \"energy_usage_kWh\", y = \"leading_current_power_factor\", ax = ax[7], color = \"#0c2c84\") \n",
    "ax[7].set_title(\"Energy Usage vs Leading Current Power Factor\")\n",
    "ax[7].set_xlabel(\"Energy Usage (kWh)\")\n",
    "ax[7].set_ylabel(\"Leading Current Power Factor\")\n",
    "\n",
    "sns.scatterplot(data = energy_consumption, x = \"leading_current_kVarh\", y = \"leading_current_power_factor\", ax = ax[8], color = \"#41b6c4\") \n",
    "ax[8].set_title(\"Leading Current vs Leading Current Power Factor\")\n",
    "ax[8].set_xlabel(\"Leading Current (kVarh)\")\n",
    "ax[8].set_ylabel(\"Leading Current Power Factor\")\n",
    "\n",
    "sns.scatterplot(data = energy_consumption, x = \"lagging_current_kVarh\", y = \"leading_current_power_factor\", ax = ax[9], color = \"#0c2c84\") \n",
    "ax[9].set_title(\"Lagging Current vs Leading Current Power Factor\")\n",
    "ax[9].set_xlabel(\"Lagging Current (kVarh)\")\n",
    "ax[9].set_ylabel(\"Leading Current Power Factor\")\n",
    "\n",
    "plt.show()"
   ]
  },
  {
   "cell_type": "markdown",
   "metadata": {},
   "source": [
    "The scatter plots indicate that all the correlations are linear."
   ]
  },
  {
   "cell_type": "markdown",
   "metadata": {},
   "source": [
    "* **Energy consumption during the week**"
   ]
  },
  {
   "cell_type": "markdown",
   "metadata": {},
   "source": [
    "The days with the highest energy consumption are Tuesdays and Thursdays, while Sundays show the lowest consumption."
   ]
  },
  {
   "cell_type": "code",
   "execution_count": null,
   "metadata": {},
   "outputs": [],
   "source": [
    "consumption_during_the_week_graph = plt.figure(figsize = (11, 3))\n",
    "sns.barplot(energy_consumption, x = \"day_of_the_week\", y = \"energy_usage_kWh\", errorbar= None, hue = \"day_of_the_week\", palette = \"YlGnBu\")\n",
    "plt.xlabel(\"Day of the Week\")\n",
    "plt.ylabel(\"Energy Usage (kWh)\")\n",
    "plt.title(\"Energy Consumption During the Week\", size = 12)"
   ]
  },
  {
   "cell_type": "markdown",
   "metadata": {},
   "source": [
    "Energy consumption varies between weekdays and weekends, with higher usage typically observed on weekdays and lower consumption on weekends."
   ]
  },
  {
   "cell_type": "code",
   "execution_count": null,
   "metadata": {},
   "outputs": [],
   "source": [
    "consumption_by_weekstatus_graph = plt.figure(figsize = (11, 3))\n",
    "sns.barplot(energy_consumption, x = \"week_status\", y = \"energy_usage_kWh\", errorbar= None, hue = \"week_status\", palette = \"YlGnBu\")\n",
    "plt.xlabel(\"Week Status\")\n",
    "plt.ylabel(\"Energy Usage (kWh)\")\n",
    "plt.title(\"Energy Consumption During the Week\", size = 12)"
   ]
  },
  {
   "cell_type": "markdown",
   "metadata": {},
   "source": [
    "* **Energy consumption by load type**\n",
    "\n",
    "Energy consumption is higher during maximum load conditions and lower when the load type is light."
   ]
  },
  {
   "cell_type": "code",
   "execution_count": null,
   "metadata": {},
   "outputs": [],
   "source": [
    "consumption_by_load_type_graph = plt.figure(figsize = (11, 3))\n",
    "sns.barplot(energy_consumption, x = \"load_type\", y = \"energy_usage_kWh\", errorbar= None, hue = \"load_type\", palette = \"YlGnBu\")\n",
    "plt.xlabel(\"Load Type\")\n",
    "plt.ylabel(\"Energy Usage (kWh)\")\n",
    "plt.title(\"Energy Consumption by Load Type\", size = 12)"
   ]
  },
  {
   "cell_type": "markdown",
   "metadata": {},
   "source": [
    "* **Energy consumption by load during the week**\n",
    "\n",
    "The distribution of energy consumption based on load type remains consistent throughout the week."
   ]
  },
  {
   "cell_type": "code",
   "execution_count": null,
   "metadata": {},
   "outputs": [],
   "source": [
    "consumption_by_load_type_during_the_week_graph = plt.figure(figsize = (11, 3))\n",
    "sns.barplot(energy_consumption, x = \"day_of_the_week\", y = \"energy_usage_kWh\", errorbar= None, hue = \"load_type\", palette = \"YlGnBu\")\n",
    "plt.xlabel(\"Day of the Week\")\n",
    "plt.ylabel(\"Energy Usage (kWh)\")\n",
    "plt.title(\"Energy Consumption by Load Type During the Week\", size = 12)"
   ]
  },
  {
   "cell_type": "code",
   "execution_count": null,
   "metadata": {},
   "outputs": [],
   "source": [
    "consumption_by_load_type_by_weekstatus_graph = plt.figure(figsize = (11, 3))\n",
    "sns.barplot(energy_consumption, x = \"week_status\", y = \"energy_usage_kWh\", errorbar= None, hue = \"load_type\", palette = \"YlGnBu\")\n",
    "plt.xlabel(\"Week Status\")\n",
    "plt.ylabel(\"Energy Usage (kWh)\")\n",
    "plt.title(\"Energy Consumption by Load Type and Week Status\", size = 12)"
   ]
  },
  {
   "cell_type": "markdown",
   "metadata": {},
   "source": [
    "Distribution of load type. counts\n",
    "co2 emission during the week\n",
    "co2 emission by load type"
   ]
  },
  {
   "cell_type": "markdown",
   "metadata": {},
   "source": [
    "* **Load type distribution**"
   ]
  },
  {
   "cell_type": "code",
   "execution_count": null,
   "metadata": {},
   "outputs": [],
   "source": [
    "load_type_distribution = energy_consumption[\"load_type\"].value_counts()\n",
    "load_type_distribution"
   ]
  },
  {
   "cell_type": "code",
   "execution_count": null,
   "metadata": {},
   "outputs": [],
   "source": [
    "labels = [\"Light load\", \"Medium load\", \"Maximum load\"]\n",
    "colors = [\"#c7e9b4\", \"#41b6c4\", \"#225ea8\"]\n",
    "\n",
    "load_type_distribution_graph = plt.figure(figsize = (11, 3))\n",
    "plt.pie(load_type_distribution, labels = labels, colors = colors, startangle = 265, autopct=\"%1.1f%%\", shadow = True)\n",
    "plt.axis(\"equal\")\n",
    "plt.legend()\n",
    "plt.title(\"Load Type Distribution\")"
   ]
  },
  {
   "cell_type": "markdown",
   "metadata": {},
   "source": [
    "* **CO<sub>2</sub> emissions distribution during the week**\n",
    "\n",
    "CO<sub>2</sub> emissions are higher on weekdays, particularly on Tuesdays and Thursdays. This trend is expected, as CO<sub>2</sub> emissions are closely linked to energy consumption."
   ]
  },
  {
   "cell_type": "code",
   "execution_count": null,
   "metadata": {},
   "outputs": [],
   "source": [
    "co2_emissions_during_the_week_graph = plt.figure(figsize = (11, 3))\n",
    "sns.barplot(energy_consumption, x = \"day_of_the_week\", y = \"CO2_ppm\", errorbar= None, hue = \"day_of_the_week\", palette = \"YlGnBu\")\n",
    "plt.xlabel(\"Day of the Week\")\n",
    "plt.ylabel(\"CO$_2$ Emissions (ppm)\")\n",
    "plt.title(\"CO$_2$ Emissions During the Week\", size = 12)"
   ]
  },
  {
   "cell_type": "markdown",
   "metadata": {},
   "source": [
    "* **CO<sub>2</sub> emission by load type**\n",
    "\n",
    " CO<sub>2</sub> emissions are higher during peak load times and lower during lighter load periods."
   ]
  },
  {
   "cell_type": "code",
   "execution_count": null,
   "metadata": {},
   "outputs": [],
   "source": [
    "co2_emissions_by_load_type_graph = plt.figure(figsize = (11, 3))\n",
    "sns.barplot(energy_consumption, x = \"load_type\", y = \"CO2_ppm\", errorbar= None, hue = \"load_type\", palette = \"YlGnBu\")\n",
    "plt.xlabel(\"Load Type\")\n",
    "plt.ylabel(\"CO$_2$ Emissions (ppm)\")\n",
    "plt.title(\"CO$_2$ Emissions by Load Type\", size = 12)"
   ]
  },
  {
   "cell_type": "markdown",
   "metadata": {},
   "source": [
    "## Pre-model data transformation"
   ]
  },
  {
   "cell_type": "markdown",
   "metadata": {},
   "source": [
    "* **Encoding categorical data**\n",
    "\n",
    "Most machine learning models require numerical input, which means categorical variables must be converted into numerical values for better comprehension by the model. In the case of linear regression, dummy encoding is the preferred method for encoding categorical data, as it helps prevent multicollinearity issues in the model."
   ]
  },
  {
   "cell_type": "code",
   "execution_count": null,
   "metadata": {},
   "outputs": [],
   "source": [
    "energy_consumption = pd.get_dummies(energy_consumption, drop_first = True)\n",
    "energy_consumption.head()"
   ]
  },
  {
   "cell_type": "markdown",
   "metadata": {},
   "source": [
    "* **Split data**\n",
    "\n",
    "The dataset is divided into two main parts: the training set (70%) and the testing set (30%). This is done to avoid overfitting by training on one set and testing in another, and to perform the evaluation of the model. \n",
    "\n",
    "**_Training set_**: this is the portion of the dataset used to train the model. During training, the model learns patterns, relationships, and features from the data.\n",
    "\n",
    "**_Testing set_**: this set is used to evaluate the model's performance after training. It helps assess how well the model generalizes to unseen data."
   ]
  },
  {
   "cell_type": "code",
   "execution_count": null,
   "metadata": {},
   "outputs": [],
   "source": [
    "# Independent features\n",
    "X = energy_consumption.drop(\"energy_usage_kWh\", axis = 1)\n",
    "\n",
    "# Dependent or target feature\n",
    "y = energy_consumption[\"energy_usage_kWh\"]\n",
    "\n",
    "# Split the dataset into training and testing sets\n",
    "# Import required function form the module\n",
    "from sklearn.model_selection import train_test_split\n",
    "\n",
    "X_train, X_test, y_train, y_test = train_test_split(X, y, test_size = 0.3, random_state = 42)\n",
    "print(\"Training set - X_train shape:\", X_train.shape)\n",
    "print(\"Testing set - X_test shape:\", X_test.shape)\n",
    "print(\"Training set - y_train shape:\", y_train.shape)\n",
    "print(\"Testing set - y_test shape:\", y_test.shape)"
   ]
  },
  {
   "cell_type": "markdown",
   "metadata": {},
   "source": [
    "## Linear Regression Model\n",
    "\n",
    "This is a regression problem due to the continuous (numerical) nature of the target variable and the linear relationship between the features and the target variable. Therefore, a linear regression model is the most suitable choice. The LinearRegression module from scikit-learn will be used to build this model."
   ]
  },
  {
   "cell_type": "code",
   "execution_count": null,
   "metadata": {},
   "outputs": [],
   "source": [
    "from sklearn.linear_model import LinearRegression\n",
    "from sklearn.metrics import mean_squared_error, mean_absolute_error\n",
    "\n",
    "# Create the linear regression model\n",
    "linear_regression_model = LinearRegression()\n",
    "# Train the model with the training set\n",
    "linear_regression_model.fit(X_train, y_train)\n",
    "# Make predictions using the model on test set\n",
    "y_pred = linear_regression_model.predict(X_test)"
   ]
  },
  {
   "cell_type": "markdown",
   "metadata": {},
   "source": [
    "The evaluation of the model will be conducted using the following metrics: coefficient of determination (R²), mean squared error (MSE), root mean squared error (RMSE), and mean absolute error (MAE)."
   ]
  },
  {
   "cell_type": "code",
   "execution_count": null,
   "metadata": {},
   "outputs": [],
   "source": [
    "# Evaluate the model\n",
    "r2_score = linear_regression_model.score(X_test, y_test) # coefficient of determination or r-squared\n",
    "mse = mean_squared_error(y_test, y_pred) # mean squared error\n",
    "rmse = np.sqrt(mse) #root mean squared error\n",
    "mae = mean_absolute_error(y_test, y_pred) # mean absolute error"
   ]
  },
  {
   "cell_type": "code",
   "execution_count": null,
   "metadata": {},
   "outputs": [],
   "source": [
    "# Print the results\n",
    "print(\"Evaluation metrics of the regression model:\\n\")\n",
    "print(f\"R² Score: {r2_score:.3f}\")\n",
    "print(f\"Mean Squared Error: {mse:.3f}\")\n",
    "print(f\"Root Mean Squared Error: {rmse:.3f}\")\n",
    "print(f\"Mean Absolute Error: {mae:.3f}\")"
   ]
  },
  {
   "cell_type": "markdown",
   "metadata": {},
   "source": [
    "After evaluation, the model is visualized by plotting the actual values against the predicted values."
   ]
  },
  {
   "cell_type": "code",
   "execution_count": null,
   "metadata": {},
   "outputs": [],
   "source": [
    "# Assigning actual and predicted values\n",
    "x = y_test \n",
    "y = y_pred\n",
    "\n",
    "# Calculate the parameters of the linear regression\n",
    "m, b = np.polyfit(x, y, 1)\n",
    "\n",
    "plt.figure(figsize = (11, 6))\n",
    "\n",
    "# Scatter plot of actual vs. predicted values\n",
    "plt.scatter(x, y, color = \"#41b6c4\", label = \"Predicted vs Actual Values\", alpha = 0.7, edgecolors = \"white\")\n",
    "\n",
    "# Plot the linear regression line\n",
    "plt.plot(x, m * x + b, color = \"#0c2c84\", label = f\"Linear Fit: y = {m:.2f}x + {b:.2f}\")\n",
    "\n",
    "plt.xlabel(\"Actual Values\")\n",
    "plt.ylabel(\"Predicted Values\")\n",
    "plt.title(\"Linear Regression Model Visualization\")\n",
    "plt.grid(alpha = 0.3)\n",
    "plt.legend()"
   ]
  }
 ],
 "metadata": {
  "kernelspec": {
   "display_name": ".venv",
   "language": "python",
   "name": "python3"
  },
  "language_info": {
   "codemirror_mode": {
    "name": "ipython",
    "version": 3
   },
   "file_extension": ".py",
   "mimetype": "text/x-python",
   "name": "python",
   "nbconvert_exporter": "python",
   "pygments_lexer": "ipython3",
   "version": "3.10.2"
  }
 },
 "nbformat": 4,
 "nbformat_minor": 2
}
